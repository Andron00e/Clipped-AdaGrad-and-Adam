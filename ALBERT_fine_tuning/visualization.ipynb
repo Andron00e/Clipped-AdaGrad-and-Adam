{
 "cells": [
  {
   "cell_type": "code",
   "execution_count": 1,
   "metadata": {},
   "outputs": [],
   "source": [
    "import json\n",
    "\n",
    "import jsonlines\n",
    "import matplotlib.pyplot as plt\n",
    "import numpy as np\n",
    "import seaborn as sns\n",
    "from scipy.stats import norm"
   ]
  },
  {
   "cell_type": "markdown",
   "metadata": {},
   "source": [
    "## Checking heavy tails"
   ]
  },
  {
   "cell_type": "code",
   "execution_count": 3,
   "metadata": {},
   "outputs": [],
   "source": [
    "HIST_PATH = \"hist_path.json\""
   ]
  },
  {
   "cell_type": "code",
   "execution_count": null,
   "metadata": {},
   "outputs": [],
   "source": [
    "def calc_heaviness(norms_path, coef_1=1.5, coef_2=3):\n",
    "    p_mRN = 0.0035\n",
    "    p_eRN = 1.2 * 0.000001\n",
    "\n",
    "    norms_dict = None\n",
    "    with open(norms_path, \"r\") as file:\n",
    "        norms_dict = json.load(file)\n",
    "\n",
    "    norms = np.array(norms_dict[\"stochastic_norms\"])\n",
    "    q1 = np.quantile(norms, q=0.25)\n",
    "    q3 = np.quantile(norms, q=0.75)\n",
    "\n",
    "    statistic_1 = q3 + coef_1 * (q3 - q1)\n",
    "    statistic_2 = q3 + coef_2 * (q3 - q1)\n",
    "\n",
    "    p_mR = sum(norms > statistic_1) / len(norms)\n",
    "    p_eR = sum(norms > statistic_2) / len(norms)\n",
    "\n",
    "    return norms.mean(), norms.std(), p_mR / p_mRN, p_eR / p_eRN\n",
    "\n",
    "\n",
    "calc_heaviness(HIST_PATH)"
   ]
  },
  {
   "cell_type": "code",
   "execution_count": null,
   "metadata": {},
   "outputs": [],
   "source": [
    "sns.set_theme()\n",
    "\n",
    "\n",
    "def plot_norms(norms_path):\n",
    "    norms_dict = None\n",
    "    with open(norms_path, \"r\") as file:\n",
    "        norms_dict = json.load(file)\n",
    "\n",
    "    norms = norms_dict[\"stochastic_norms\"]\n",
    "\n",
    "    print(sorted(norms))\n",
    "    fig, ax = plt.subplots(figsize=(7, 5))\n",
    "    ax.hist(norms, color=\"royalblue\", edgecolor=\"white\", bins=100, density=True)\n",
    "\n",
    "    mu, sigma, ro_mR, ro_eR = calc_heaviness(HIST_PATH)\n",
    "    x = np.linspace(min(norms), max(norms), 100)\n",
    "    ax.plot(x, norm.pdf(x, mu, sigma), color=\"black\")\n",
    "    ax.set_xlabel(\"Noise norm\", fontsize=14)\n",
    "    ax.set_ylabel(\"Density\", fontsize=14)\n",
    "    ax.grid(True)\n",
    "    textstr = \"\\n\".join(\n",
    "        (\n",
    "            r\"$\\mu=%.2f$\" % (mu,),\n",
    "            r\"$\\sigma=%.2f$\" % (sigma,),\n",
    "            r\"$\\rho_{mR}=%.3f$\" % (ro_mR,),\n",
    "            r\"$\\rho_{eR}=%.0f$\" % (ro_eR,),\n",
    "        )\n",
    "    )\n",
    "    ax.text(\n",
    "        0.7, 0.9, textstr, transform=ax.transAxes, fontsize=14, verticalalignment=\"top\"\n",
    "    )\n",
    "    ax.set_title(\"Dataset, n steps\", fontsize=16)\n",
    "\n",
    "\n",
    "plot_norms(HIST_PATH)\n",
    "None"
   ]
  },
  {
   "cell_type": "markdown",
   "metadata": {},
   "source": [
    "## Model comparison"
   ]
  },
  {
   "cell_type": "code",
   "execution_count": 11,
   "metadata": {},
   "outputs": [],
   "source": [
    "def get_mean_line(logs):\n",
    "    return np.array(logs).mean(axis=0)\n",
    "\n",
    "\n",
    "def get_std_lines(logs):\n",
    "    logs = np.array(logs)\n",
    "    upper_line = logs.mean(axis=0) + logs.std(axis=0)\n",
    "    lower_line = logs.mean(axis=0) - logs.std(axis=0)\n",
    "    return upper_line, lower_line\n",
    "\n",
    "\n",
    "def get_worst_line(logs, worst_type: str):\n",
    "    if worst_type == \"max\":\n",
    "        return np.array(logs).max(axis=0)\n",
    "    return np.array(logs).min(axis=0)\n",
    "\n",
    "\n",
    "def get_quantile_line(logs, q):\n",
    "    return np.quantile(np.array(logs), q=q, axis=0)"
   ]
  },
  {
   "cell_type": "code",
   "execution_count": 14,
   "metadata": {},
   "outputs": [],
   "source": [
    "LOG_N_STEP = 10  # replace with your value\n",
    "PATHS_TO_COMPARE = [\n",
    "    \"logs_first_model.jsonl\",\n",
    "    \"logs_second_model.jsonl\",\n",
    "]\n",
    "LABELS = [\"first_model\", \"second_model\"]\n",
    "\n",
    "assert len(PATHS_TO_COMPARE) == len(LABELS)"
   ]
  },
  {
   "cell_type": "code",
   "execution_count": null,
   "metadata": {},
   "outputs": [],
   "source": [
    "def preroc_logs(raw_logs, stage, log_n_step=LOG_N_STEP):\n",
    "    if stage == \"train\":\n",
    "        raw_logs = np.array(raw_logs)\n",
    "        return (\n",
    "            np.add.reduceat(raw_logs, np.arange(0, len(raw_logs), log_n_step))[:-1]\n",
    "            / log_n_step\n",
    "        )\n",
    "    return np.array([np.array(x).mean() for x in raw_logs if len(x) > 2])"
   ]
  },
  {
   "cell_type": "code",
   "execution_count": 15,
   "metadata": {},
   "outputs": [],
   "source": [
    "logs = []\n",
    "\n",
    "for i, path in enumerate(PATHS_TO_COMPARE):\n",
    "    log = {\"model\": {\"train_loss\": [], \"val_loss\": [], \"val_metric\": []}}\n",
    "\n",
    "    with jsonlines.open(path) as reader:\n",
    "        for obj in reader:\n",
    "            log[\"model\"][\"train_loss\"].append(\n",
    "                preroc_logs(obj[\"model\"][\"train_loss\"], \"train\")\n",
    "            )\n",
    "            log[\"model\"][\"val_loss\"].append(\n",
    "                preroc_logs(obj[\"model\"][\"val_loss\"], \"val\")\n",
    "            )\n",
    "            log[\"model\"][\"val_metric\"].append(\n",
    "                preroc_logs(obj[\"model\"][\"val_metric\"], \"val\")\n",
    "            )\n",
    "    logs.append(log)"
   ]
  },
  {
   "cell_type": "code",
   "execution_count": null,
   "metadata": {},
   "outputs": [],
   "source": [
    "METRICS_TYPE = \"val_loss\"  # \"val_metric\", \"train_loss\""
   ]
  },
  {
   "cell_type": "code",
   "execution_count": null,
   "metadata": {},
   "outputs": [],
   "source": [
    "clipped_index, base_index = 0, 1\n",
    "fig, ax = plt.subplots(figsize=(9, 5))\n",
    "colors = sns.color_palette(\"husl\", 2)[::-1]\n",
    "\n",
    "clipped_log = logs[clipped_index]\n",
    "metrics = clipped_log[\"model\"][METRICS_TYPE]\n",
    "\n",
    "clipped_metrics_high = get_quantile_line(metrics, 0.95)\n",
    "clipped_metrics_med = get_quantile_line(metrics, 0.5)\n",
    "clipped_metrics_low = get_quantile_line(metrics, 0.05)\n",
    "steps = [(i + 1) * LOG_N_STEP - 1 for i in range(len(clipped_metrics_high))]\n",
    "ax.plot(\n",
    "    steps, clipped_metrics_med, label=LABELS[clipped_index], color=colors[clipped_index]\n",
    ")\n",
    "ax.fill_between(\n",
    "    steps,\n",
    "    clipped_metrics_low,\n",
    "    clipped_metrics_high,\n",
    "    alpha=0.3,\n",
    "    color=colors[clipped_index],\n",
    ")\n",
    "\n",
    "base_log = logs[base_index]\n",
    "metrics = base_log[\"model\"][METRICS_TYPE]\n",
    "\n",
    "base_metrics_high = get_quantile_line(metrics, 0.95)\n",
    "base_metrics_med = get_quantile_line(metrics, 0.5)\n",
    "baes_metrics_low = get_quantile_line(metrics, 0.05)\n",
    "ax.plot(steps, base_metrics_med, label=LABELS[base_index], color=colors[base_index])\n",
    "ax.fill_between(\n",
    "    steps, baes_metrics_low, base_metrics_high, alpha=0.3, color=colors[base_index]\n",
    ")\n",
    "\n",
    "ax.set_xlabel(\"Number of steps\", fontsize=14)\n",
    "ax.set_ylabel(\"val loss\", fontsize=14)\n",
    "ax.grid(True)\n",
    "ax.set_title(\"Dataset, first_model vs second_model\", fontsize=16)\n",
    "ax.legend(fontsize=12)"
   ]
  }
 ],
 "metadata": {
  "kernelspec": {
   "display_name": ".venv",
   "language": "python",
   "name": "python3"
  },
  "language_info": {
   "codemirror_mode": {
    "name": "ipython",
    "version": 3
   },
   "file_extension": ".py",
   "mimetype": "text/x-python",
   "name": "python",
   "nbconvert_exporter": "python",
   "pygments_lexer": "ipython3",
   "version": "3.8.10"
  }
 },
 "nbformat": 4,
 "nbformat_minor": 2
}
